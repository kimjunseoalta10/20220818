{
  "nbformat": 4,
  "nbformat_minor": 0,
  "metadata": {
    "colab": {
      "provenance": [],
      "include_colab_link": true
    },
    "kernelspec": {
      "name": "python3",
      "display_name": "Python 3"
    },
    "language_info": {
      "name": "python"
    }
  },
  "cells": [
    {
      "cell_type": "markdown",
      "metadata": {
        "id": "view-in-github",
        "colab_type": "text"
      },
      "source": [
        "<a href=\"https://colab.research.google.com/github/kimjunseoalta10/c/blob/main/%EA%B9%80%EC%A4%80%EC%84%9C_205_02.ipynb\" target=\"_parent\"><img src=\"https://colab.research.google.com/assets/colab-badge.svg\" alt=\"Open In Colab\"/></a>"
      ]
    },
    {
      "cell_type": "code",
      "execution_count": 1,
      "metadata": {
        "colab": {
          "base_uri": "https://localhost:8080/"
        },
        "id": "m-MjvTvtrWJQ",
        "outputId": "9474382d-4858-4877-ea76-ebc964ef414d"
      },
      "outputs": [
        {
          "output_type": "stream",
          "name": "stdout",
          "text": [
            "<class 'str'>\n",
            "<class 'int'>\n",
            "<class 'float'>\n"
          ]
        }
      ],
      "source": [
        "print(type('안녕하세요'))\n",
        "print(type(273))\n",
        "print(type(3.141592))"
      ]
    },
    {
      "cell_type": "code",
      "source": [
        "score = 100\n",
        "print(score)\n",
        "print(type(score))"
      ],
      "metadata": {
        "colab": {
          "base_uri": "https://localhost:8080/"
        },
        "id": "WEDaMbD2rvQ2",
        "outputId": "408c99b2-3314-4567-8e27-99c1f375424a"
      },
      "execution_count": 2,
      "outputs": [
        {
          "output_type": "stream",
          "name": "stdout",
          "text": [
            "100\n",
            "<class 'int'>\n"
          ]
        }
      ]
    },
    {
      "cell_type": "code",
      "source": [
        "score = 'high'\n",
        "print(score)\n",
        "print(type(score))"
      ],
      "metadata": {
        "colab": {
          "base_uri": "https://localhost:8080/"
        },
        "id": "-aq50adcsB1j",
        "outputId": "fff44c50-fd17-4e05-a65b-340852344a40"
      },
      "execution_count": 3,
      "outputs": [
        {
          "output_type": "stream",
          "name": "stdout",
          "text": [
            "high\n",
            "<class 'str'>\n"
          ]
        }
      ]
    },
    {
      "cell_type": "code",
      "source": [
        "age=input('몇 살이세요? ')\n",
        "age=int(age)\n",
        "print(age+age)"
      ],
      "metadata": {
        "colab": {
          "base_uri": "https://localhost:8080/"
        },
        "id": "MIC_9RA2sJki",
        "outputId": "f5b31f98-049f-44bf-afdf-28aa48048382"
      },
      "execution_count": 5,
      "outputs": [
        {
          "output_type": "stream",
          "name": "stdout",
          "text": [
            "몇 살이세요? 18\n",
            "36\n"
          ]
        }
      ]
    },
    {
      "cell_type": "code",
      "source": [
        "price=input('가격을 입력하세요 : ')\n",
        "num=input('개수를 입력하세요 : ')\n",
        "sum=int(price)*int(num)\n",
        "print('총액은', sum, '원입니다.')"
      ],
      "metadata": {
        "colab": {
          "base_uri": "https://localhost:8080/"
        },
        "id": "RCYGczsnsJoT",
        "outputId": "0b6f7159-d417-4194-841e-18df6d297c3c"
      },
      "execution_count": 8,
      "outputs": [
        {
          "output_type": "stream",
          "name": "stdout",
          "text": [
            "가격을 입력하세요 : 100\n",
            "개수를 입력하세요 : 5\n",
            "총액은 500 원입니다.\n"
          ]
        }
      ]
    },
    {
      "cell_type": "code",
      "source": [
        "width=int(input('사각형의 가로 : '))\n",
        "height=int(input('사각형의 세로 : '))\n",
        "sum=width*height\n",
        "print('사각형의 면적은', sum, '입니다.')"
      ],
      "metadata": {
        "colab": {
          "base_uri": "https://localhost:8080/"
        },
        "id": "31zh8ZthsJr6",
        "outputId": "6c2bc348-6253-4785-d801-6e0a024b719c"
      },
      "execution_count": 9,
      "outputs": [
        {
          "output_type": "stream",
          "name": "stdout",
          "text": [
            "사각형의 가로 : 5\n",
            "사각형의 세로 : 10\n",
            "사각형의 면적은 50 입니다.\n"
          ]
        }
      ]
    },
    {
      "cell_type": "code",
      "source": [
        "name = input('이름? ')\n",
        "year = int(input('태어난 해는? '))\n",
        "sum=2023-year+1\n",
        "print(name,'님의 나이는', sum,'세 입니다.')"
      ],
      "metadata": {
        "colab": {
          "base_uri": "https://localhost:8080/"
        },
        "id": "Hk28VkyRsJvC",
        "outputId": "1470487e-a834-406b-c34f-b0fc292c8c70"
      },
      "execution_count": 10,
      "outputs": [
        {
          "output_type": "stream",
          "name": "stdout",
          "text": [
            "이름? 준서\n",
            "태어난 해는? 2006\n",
            "준서 님의 나이는 18 세 입니다.\n"
          ]
        }
      ]
    },
    {
      "cell_type": "code",
      "source": [
        "price=int(input('물건의 가격?: '))\n",
        "num=int(input('물건 구매 개수?: '))\n",
        "money=int(input('지불한 돈?: '))\n",
        "sum=money-price*num\n",
        "print('거스름돈은', sum,'원입니다.')"
      ],
      "metadata": {
        "colab": {
          "base_uri": "https://localhost:8080/"
        },
        "id": "rL1wbUCau4Xs",
        "outputId": "86065d79-e83b-4ac2-fa56-9ac6840ccfd1"
      },
      "execution_count": 11,
      "outputs": [
        {
          "output_type": "stream",
          "name": "stdout",
          "text": [
            "물건의 가격?: 500\n",
            "물건 구매 개수?: 4\n",
            "지불한 돈?: 5000\n",
            "거스름돈은 3000 원입니다.\n"
          ]
        }
      ]
    },
    {
      "cell_type": "code",
      "source": [
        "num=123456789\n",
        "print(num)\n",
        "print(type(num))"
      ],
      "metadata": {
        "colab": {
          "base_uri": "https://localhost:8080/"
        },
        "id": "Mk5fO74P49Om",
        "outputId": "8f3b14f3-921b-45fb-a3a8-35ac59922272"
      },
      "execution_count": 12,
      "outputs": [
        {
          "output_type": "stream",
          "name": "stdout",
          "text": [
            "123456789\n",
            "<class 'int'>\n"
          ]
        }
      ]
    },
    {
      "cell_type": "code",
      "source": [
        "a=1.5\n",
        "b=-3.5\n",
        "print(a, b)\n",
        "print(type(a), type(b))"
      ],
      "metadata": {
        "colab": {
          "base_uri": "https://localhost:8080/"
        },
        "id": "mKQ-ZY6L49Rl",
        "outputId": "fb016596-03e4-4f65-bf4e-969d49a5b1a6"
      },
      "execution_count": 13,
      "outputs": [
        {
          "output_type": "stream",
          "name": "stdout",
          "text": [
            "1.5 -3.5\n",
            "<class 'float'> <class 'float'>\n"
          ]
        }
      ]
    },
    {
      "cell_type": "code",
      "source": [
        "x=3.3764\n",
        "y=6/2\n",
        "print(x,y)\n",
        "print(type(x),type(y))"
      ],
      "metadata": {
        "colab": {
          "base_uri": "https://localhost:8080/"
        },
        "id": "NuuiTes849UN",
        "outputId": "92608668-e2f3-4b69-8bb2-961e4e0509be"
      },
      "execution_count": 14,
      "outputs": [
        {
          "output_type": "stream",
          "name": "stdout",
          "text": [
            "3.3764 3.0\n",
            "<class 'float'> <class 'float'>\n"
          ]
        }
      ]
    },
    {
      "cell_type": "code",
      "source": [
        "a=\"Korea 서울 1234\"\n",
        "print(a)\n",
        "print(type(a))"
      ],
      "metadata": {
        "colab": {
          "base_uri": "https://localhost:8080/"
        },
        "id": "AiGS12ru49Wv",
        "outputId": "8dcea015-19f3-4514-ab94-aece4e76496e"
      },
      "execution_count": 15,
      "outputs": [
        {
          "output_type": "stream",
          "name": "stdout",
          "text": [
            "Korea 서울 1234\n",
            "<class 'str'>\n"
          ]
        }
      ]
    },
    {
      "cell_type": "code",
      "source": [
        "a=30\n",
        "print(a)\n",
        "print(type(a))\n",
        "\n",
        "b='30'\n",
        "print(b)\n",
        "print(type(b))"
      ],
      "metadata": {
        "colab": {
          "base_uri": "https://localhost:8080/"
        },
        "id": "p7ZZ5TGE49Yt",
        "outputId": "6fa558f4-b4d9-4808-a69e-3c091781b821"
      },
      "execution_count": 16,
      "outputs": [
        {
          "output_type": "stream",
          "name": "stdout",
          "text": [
            "30\n",
            "<class 'int'>\n",
            "30\n",
            "<class 'str'>\n"
          ]
        }
      ]
    },
    {
      "cell_type": "code",
      "source": [
        "a=5\n",
        "b=a==5\n",
        "print(b)"
      ],
      "metadata": {
        "colab": {
          "base_uri": "https://localhost:8080/"
        },
        "id": "24NLD9LG49dQ",
        "outputId": "9614df1f-2391-4b29-9c1c-fed74ebf0ecd"
      },
      "execution_count": 17,
      "outputs": [
        {
          "output_type": "stream",
          "name": "stdout",
          "text": [
            "True\n"
          ]
        }
      ]
    },
    {
      "cell_type": "code",
      "source": [
        "if a==5:\n",
        "  print(\"a는 5\")"
      ],
      "metadata": {
        "colab": {
          "base_uri": "https://localhost:8080/"
        },
        "id": "qiyvUVHF49gY",
        "outputId": "e8067336-a98c-4bfb-edd6-fce877c2ca11"
      },
      "execution_count": 18,
      "outputs": [
        {
          "output_type": "stream",
          "name": "stdout",
          "text": [
            "a는 5\n"
          ]
        }
      ]
    },
    {
      "cell_type": "code",
      "source": [
        "a=input('첫번째숫자를입력하세요: ')\n",
        "b=input('두번째숫자를입력하세요: ')\n",
        "c=int(a)+int(b)\n",
        "print(c)"
      ],
      "metadata": {
        "colab": {
          "base_uri": "https://localhost:8080/"
        },
        "id": "vZxpAb9k49ld",
        "outputId": "72220302-65d6-400a-ee08-1f79d8231ad0"
      },
      "execution_count": 19,
      "outputs": [
        {
          "output_type": "stream",
          "name": "stdout",
          "text": [
            "첫번째숫자를입력하세요: 5\n",
            "두번째숫자를입력하세요: 4\n",
            "9\n"
          ]
        }
      ]
    },
    {
      "cell_type": "code",
      "source": [
        "inch=float(input('인치를 입력하세요 : '))\n",
        "cm=inch*2.54\n",
        "print(\"센치미터:\", cm,\"cm\")"
      ],
      "metadata": {
        "colab": {
          "base_uri": "https://localhost:8080/"
        },
        "id": "089JFyOv49oV",
        "outputId": "6eee7272-5ea4-47cc-eb75-9fd0c9665c6d"
      },
      "execution_count": 22,
      "outputs": [
        {
          "output_type": "stream",
          "name": "stdout",
          "text": [
            "인치를 입력하세요 : 3.5\n",
            "센치미터: 8.89 cm\n"
          ]
        }
      ]
    },
    {
      "cell_type": "code",
      "source": [
        "r=int(input('반지름은? : '))\n",
        "a=2*(3.14)*r\n",
        "b=r*r*3.14\n",
        "print(\"반지름이 \", r,\"인 원의 둘레는 \",format(a, \".1f\"),\" 이고, 면적은 \", b,\" 이다\", sep=\"\")"
      ],
      "metadata": {
        "colab": {
          "base_uri": "https://localhost:8080/"
        },
        "id": "BS9Ymnag6v5P",
        "outputId": "d40e13dd-9dc5-4f8b-a91d-817c5e3a0b97"
      },
      "execution_count": 35,
      "outputs": [
        {
          "output_type": "stream",
          "name": "stdout",
          "text": [
            "반지름은? : 5\n",
            "반지름이 5인 원의 둘레는 31.4 이고, 면적은 78.5 이다\n"
          ]
        }
      ]
    },
    {
      "cell_type": "code",
      "source": [
        "a=int(input('현재 키는? '))\n",
        "b=int(input('5개월 후의 목표 키는? '))\n",
        "c=(b-a)/5\n",
        "print(\"한달에 \",c,\" cm씩 성장해 보세요!\", sep=\"\")"
      ],
      "metadata": {
        "colab": {
          "base_uri": "https://localhost:8080/"
        },
        "id": "2PUmGPed6v92",
        "outputId": "70137b63-f57e-4d4b-ac4d-f799fb138b84"
      },
      "execution_count": 36,
      "outputs": [
        {
          "output_type": "stream",
          "name": "stdout",
          "text": [
            "현재 키는? 160\n",
            "5개월 후의 목표 키는? 168\n",
            "한달에 1.6 cm씩 성장해 보세요!\n"
          ]
        }
      ]
    },
    {
      "cell_type": "code",
      "source": [
        "book=int(input('책 값 :'))\n",
        "discount=int(input('할인율(%) :'))\n",
        "delivery=int(input('배송비:'))\n",
        "a=book/100*(100-discount)+delivery\n",
        "print(\"결제하실  금액은\", a,\"원 입니다.\")\n",
        "#print(\"결제하실  금액은\", format(a, \".1f\"),\"원 입니다.\")"
      ],
      "metadata": {
        "colab": {
          "base_uri": "https://localhost:8080/"
        },
        "id": "39f_zsbx6wCn",
        "outputId": "d6a42482-aa63-4836-98b4-3a1451db8e0d"
      },
      "execution_count": 38,
      "outputs": [
        {
          "output_type": "stream",
          "name": "stdout",
          "text": [
            "책 값 :3000\n",
            "할인율(%) :20\n",
            "배송비:3000\n",
            "결제하실  금액은 5400.0 원 입니다.\n"
          ]
        }
      ]
    },
    {
      "cell_type": "code",
      "source": [
        "a=int(input(\"첫번째 과목:\"))\n",
        "b=int(input(\"두번째 과목:\"))\n",
        "sum=a+b\n",
        "r=sum/2\n",
        "print(\"합계:\",sum,\"평균:\", r)"
      ],
      "metadata": {
        "colab": {
          "base_uri": "https://localhost:8080/"
        },
        "id": "QpfuisgK6wHm",
        "outputId": "41000810-1d67-4509-d4fa-363d0d8f82ee"
      },
      "execution_count": 39,
      "outputs": [
        {
          "output_type": "stream",
          "name": "stdout",
          "text": [
            "첫번째 과목:80\n",
            "두번째 과목:96\n",
            "합계: 176 평균: 88.0\n"
          ]
        }
      ]
    },
    {
      "cell_type": "code",
      "source": [
        "a=int(input(\"삼각형의 밑변 길이 : \"))\n",
        "b=int(input(\"삼각형의 높이 : \"))\n",
        "c=a*b/2\n",
        "print(\"삼각형의 면척 :\", c)"
      ],
      "metadata": {
        "colab": {
          "base_uri": "https://localhost:8080/"
        },
        "id": "tFqVmrY86wMA",
        "outputId": "36413c5a-b03e-4e82-8cb3-cdfb53f72481"
      },
      "execution_count": 41,
      "outputs": [
        {
          "output_type": "stream",
          "name": "stdout",
          "text": [
            "삼각형의 밑변 길이 : 10\n",
            "삼각형의 높이 : 3\n",
            "삼각형의 면척 : 15.0\n"
          ]
        }
      ]
    },
    {
      "cell_type": "code",
      "source": [
        "a=float(input(\"킬로그램(kg) 입력: \"))\n",
        "b=a*2.2046\n",
        "print(a,\"kg은 \",b,\" 파운드입니다.\",sep=\"\")"
      ],
      "metadata": {
        "colab": {
          "base_uri": "https://localhost:8080/"
        },
        "id": "Rxw-fscq6wQX",
        "outputId": "ad97f92d-cae9-4986-e295-b352e9ca0bc6"
      },
      "execution_count": 44,
      "outputs": [
        {
          "output_type": "stream",
          "name": "stdout",
          "text": [
            "킬로그램(kg) 입력: 30.5\n",
            "30.5kg은 67.2403 파운드입니다.\n"
          ]
        }
      ]
    }
  ]
}